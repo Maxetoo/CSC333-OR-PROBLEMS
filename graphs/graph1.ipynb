# NUMBER 1
import numpy as np
import matplotlib.pyplot as plt
from scipy.optimize import linprog

# Define the constraints
x = np.linspace(0, 10, 400)

# Constraints:
y1 = (12 - 2 * x) / 3  # From 2A + 3B <= 12
y2 = (8 - x) / 2       # From A + 2B <= 8

# Ensure y values are non-negative
y1 = np.maximum(y1, 0)
y2 = np.maximum(y2, 0)

# Plotting
plt.figure(figsize=(10, 7))
plt.plot(x, y1, label="2A + 3B <= 12")
plt.plot(x, y2, label="A + 2B <= 8")
plt.axhline(0, color='black', linewidth=0.8)  # x-axis
plt.axvline(0, color='black', linewidth=0.8)  # y-axis

# Shade the feasible region
plt.fill_between(x, np.minimum(y1, y2), color="lightblue", alpha=0.5)

# Labels and legend
plt.xlim(0, 10)
plt.ylim(0, 10)
plt.xlabel("Product A")
plt.ylabel("Product B")
plt.title("Feasible Region for Production Optimization")
plt.legend()
plt.grid()

# Calculate corner points
points = [
    (0, 0),  # Intersection of x=0 and y=0
    (0, 8/2),  # Intersection of A+2B=8 with A=0
    (12/2, 0),  # Intersection of 2A+3B=12 with B=0
    (4, 2)      # Intersection of 2A+3B=12 and A+2B=8
]

# Add corner points to the plot
for point in points:
    plt.scatter(*point, color="red")
    plt.text(point[0] + 0.1, point[1] + 0.1, f"{point}", fontsize=10)

plt.show()

# Compute profits at corner points
profits = [3*a + 4*b for a, b in points]
optimal_point = points[np.argmax(profits)]
optimal_profit = max(profits)

print(f"Corner Points: {points}")
print(f"Profits at Corner Points: {profits}")
print(f"Optimal Point: {optimal_point}")
print(f"Optimal Profit: {optimal_profit}")




