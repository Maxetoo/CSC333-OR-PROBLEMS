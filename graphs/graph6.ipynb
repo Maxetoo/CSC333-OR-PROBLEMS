{
    "cells": [{
            "cell_type": "code",
            "execution_count": 1,
            "id": "b93027a8",
            "metadata": {},
            "outputs": [{
                "name": "stdout",
                "output_type": "stream",
                "text": [
                    "Optimal number of Chocolate Cakes: 2.00\n",
                    "Optimal number of Vanilla Cakes: 3.00\n",
                    "Maximum Profit: N21.00\n"
                ]
            }],
            "source": [
                "import numpy as np\n",
                "import matplotlib.pyplot as plt\n",
                "from scipy.optimize import linprog\n",
                "\n",
                "# Define the profit function: Maximize P = 5C + 3V\n",
                "profit = [-5, -3]  # Negative values because linprog minimizes by default\n",
                "\n",
                "# Define the constraints\n",
                "# 1C + 2V ≤ 8 (Baking time constraint)\n",
                "# 3C + 2V ≤ 12 (Flour constraint)\n",
                "lhs_ineq = [\n",
                "    [1, 2],  # Coefficients for baking time\n",
                "    [3, 2]   # Coefficients for flour\n",
                "]\n",
                "\n",
                "rhs_ineq = [8, 12]  # Right-hand side values of the constraints\n",
                "\n",
                "# Solve using linprog\n",
                "result = linprog(c=profit, A_ub=lhs_ineq, b_ub=rhs_ineq, bounds=(0, None), method='highs')\n",
                "\n",
                "# Extract the results\n",
                "c_value, v_value = result.x\n",
                "max_profit = -result.fun  # Convert back to positive because of maximization\n",
                "\n",
                "# Display the results\n",
                "print(f'Optimal number of Chocolate Cakes: {c_value:.2f}')\n",
                "print(f'Optimal number of Vanilla Cakes: {v_value:.2f}')\n",
                "print(f'Maximum Profit: N{max_profit:.2f}')\n"
            ]
        },
        {
            "cell_type": "code",
            "execution_count": 2,
            "id": "c4c06bb0",
            "metadata": {},
            "outputs": [{
                    "name": "stdout",
                    "output_type": "stream",
                    "text": []
                },
                {
                    "data": {
                        "image/png": "[encoded data removed]"
                    },
                    "metadata": {},
                    "output_type": "display_data"
                }
            ],
            "source": [
                "# Plotting the feasible region\n",
                "c = np.linspace(0, 8, 500)\n",
                "v1 = (8 - 1 * c) / 2  # Baking time constraint\n",
                "v2 = (12 - 3 * c) / 2  # Flour constraint\n",
                "\n",
                "plt.figure(figsize=(10, 7))\n",
                "plt.plot(c, v1, label='1C + 2V ≤ 8 (Baking Time)', color='blue')\n",
                "plt.plot(c, v2, label='3C + 2V ≤ 12 (Flour)', color='green')\n",
                "\n",
                "# Feasible region shading\n",
                "plt.fill_between(c, np.minimum(v1, v2), color='lightblue', alpha=0.5, label='Feasible Region')\n",
                "plt.xlim(0, 5)\n",
                "plt.ylim(0, 5)\n",
                "\n",
                "# Highlight the optimal point\n",
                "plt.scatter(c_value, v_value, color='red', label=f'Optimal Point ({c_value:.2f}, {v_value:.2f})')\n",
                "\n",
                "plt.xlabel('Chocolate Cakes')\n",
                "plt.ylabel('Vanilla Cakes')\n",
                "plt.title('Feasible Region and Optimal Solution')\n",
                "plt.legend()\n",
                "plt.grid()\n",
                "plt.show()"
            ]
        }
    ],
    "metadata": {
        "kernelspec": {
            "display_name": "Python 3",
            "language": "python",
            "name": "python3"
        },
        "language_info": {
            "codemirror_mode": {
                "name": "ipython",
                "version": 3
            },
            "file_extension": ".py",
            "mimetype": "text/x-python",
            "name": "python",
            "nbconvert_exporter": "python",
            "version": "3.8.8"
        }
    },
    "nbformat": 4,
    "nbformat_minor": 5
}