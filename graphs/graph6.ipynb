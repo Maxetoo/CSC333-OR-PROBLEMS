import numpy as np
import matplotlib.pyplot as plt
from scipy.optimize import linprog

# Define the profit function: Maximize P = 5C + 3V
profit = [-5, -3]  # Negative values because linprog minimizes by default

# Define the constraints
# 1C + 2V ≤ 8 (Baking time constraint)
# 3C + 2V ≤ 12 (Flour constraint)
lhs_ineq = [
    [1, 2],  # Coefficients for baking time
    [3, 2]   # Coefficients for flour
]

rhs_ineq = [8, 12]  # Right-hand side values of the constraints

# Solve using linprog
result = linprog(c=profit, A_ub=lhs_ineq, b_ub=rhs_ineq, bounds=(0, None), method="highs")

# Extract the results
c_value, v_value = result.x
max_profit = -result.fun  # Convert back to positive because of maximization

# Display the results
print(f"Optimal number of Chocolate Cakes: {c_value:.2f}")
print(f"Optimal number of Vanilla Cakes: {v_value:.2f}")
print(f"Maximum Profit: N{max_profit:.2f}")

# Plotting the feasible region
c = np.linspace(0, 8, 500)
v1 = (8 - 1 * c) / 2  # Baking time constraint
v2 = (12 - 3 * c) / 2  # Flour constraint

plt.figure(figsize=(10, 7))
plt.plot(c, v1, label="1C + 2V ≤ 8 (Baking Time)", color="blue")
plt.plot(c, v2, label="3C + 2V ≤ 12 (Flour)", color="green")

# Feasible region shading
plt.fill_between(c, np.minimum(v1, v2), color="lightblue", alpha=0.5, label="Feasible Region")
plt.xlim(0, 5)
plt.ylim(0, 5)

# Highlight the optimal point
plt.scatter(c_value, v_value, color="red", label=f"Optimal Point ({c_value:.2f}, {v_value:.2f})")

plt.xlabel("Chocolate Cakes")
plt.ylabel("Vanilla Cakes")
plt.title("Feasible Region and Optimal Solution")
plt.legend()
plt.grid()
plt.show()
