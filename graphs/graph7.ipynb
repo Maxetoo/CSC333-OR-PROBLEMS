import numpy as np
import matplotlib.pyplot as plt
from scipy.optimize import linprog

# Define the cost function: Minimize C = 6X + 7Y
cost = [6, 7]  # Positive values because linprog minimizes by default

# Define the constraints
# 3X + 4Y ≤ 18 (Fuel hours constraint)
# 2X + 1Y ≤ 10 (Driver time constraint)
lhs_ineq = [
    [3, 4],  # Coefficients for fuel hours
    [2, 1]   # Coefficients for driver time
]

rhs_ineq = [18, 10]  # Right-hand side values of the constraints

# Solve using linprog
result = linprog(c=cost, A_ub=lhs_ineq, b_ub=rhs_ineq, bounds=(0, None), method="highs")

# Extract the results
x_value, y_value = result.x
min_cost = result.fun  # No conversion needed as it's already a minimization

# Display the results
print(f"Optimal number of Vehicle X trips: {x_value:.2f}")
print(f"Optimal number of Vehicle Y trips: {y_value:.2f}")
print(f"Minimum Cost: ${min_cost:.2f}")

# Plotting the feasible region
x = np.linspace(0, 10, 500)
y1 = (18 - 3 * x) / 4  # Fuel hours constraint
y2 = (10 - 2 * x) / 1  # Driver time constraint

plt.figure(figsize=(10, 7))
plt.plot(x, y1, label="3X + 4Y ≤ 18 (Fuel)", color="blue")
plt.plot(x, y2, label="2X + 1Y ≤ 10 (Driver)", color="green")

# Feasible region shading
plt.fill_between(x, np.minimum(y1, y2), color="lightblue", alpha=0.5, label="Feasible Region")
plt.xlim(0, 5)
plt.ylim(0, 5)

# Highlight the optimal point
plt.scatter(x_value, y_value, color="red", label=f"Optimal Point ({x_value:.2f}, {y_value:.2f})")

plt.xlabel("Vehicle X Trips")
plt.ylabel("Vehicle Y Trips")
plt.title("Feasible Region and Optimal Solution")
plt.legend()
plt.grid()
plt.show()
