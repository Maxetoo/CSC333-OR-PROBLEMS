{
    "cells": [{
            "cell_type": "code",
            "execution_count": 1,
            "id": "b93027a8",
            "metadata": {},
            "outputs": [{
                "name": "stdout",
                "output_type": "stream",
                "text": [
                    "Optimal number of Vehicle X trips: 2.00\n",
                    "Optimal number of Vehicle Y trips: 2.00\n",
                    "Minimum Cost: $24.00\n"
                ]
            }],
            "source": [
                "import numpy as np\n",
                "import matplotlib.pyplot as plt\n",
                "from scipy.optimize import linprog\n",
                "\n",
                "# Define the cost function: Minimize C = 6X + 7Y\n",
                "cost = [6, 7]  # Positive values because linprog minimizes by default\n",
                "\n",
                "# Define the constraints\n",
                "# 3X + 4Y ≤ 18 (Fuel hours constraint)\n",
                "# 2X + 1Y ≤ 10 (Driver time constraint)\n",
                "lhs_ineq = [\n",
                "    [3, 4],  # Coefficients for fuel hours\n",
                "    [2, 1]   # Coefficients for driver time\n",
                "]\n",
                "\n",
                "rhs_ineq = [18, 10]  # Right-hand side values of the constraints\n",
                "\n",
                "# Solve using linprog\n",
                "result = linprog(c=cost, A_ub=lhs_ineq, b_ub=rhs_ineq, bounds=(0, None), method='highs')\n",
                "\n",
                "# Extract the results\n",
                "x_value, y_value = result.x\n",
                "min_cost = result.fun  # No conversion needed as it's already a minimization\n",
                "\n",
                "# Display the results\n",
                "print(f'Optimal number of Vehicle X trips: {x_value:.2f}')\n",
                "print(f'Optimal number of Vehicle Y trips: {y_value:.2f}')\n",
                "print(f'Minimum Cost: ${min_cost:.2f}')\n"
            ]
        },
        {
            "cell_type": "code",
            "execution_count": 2,
            "id": "c4c06bb0",
            "metadata": {},
            "outputs": [{
                    "name": "stdout",
                    "output_type": "stream",
                    "text": []
                },
                {
                    "data": {
                        "image/png": "[encoded data removed]"
                    },
                    "metadata": {},
                    "output_type": "display_data"
                }
            ],
            "source": [
                "# Plotting the feasible region\n",
                "x = np.linspace(0, 10, 500)\n",
                "y1 = (18 - 3 * x) / 4  # Fuel hours constraint\n",
                "y2 = (10 - 2 * x) / 1  # Driver time constraint\n",
                "\n",
                "plt.figure(figsize=(10, 7))\n",
                "plt.plot(x, y1, label='3X + 4Y ≤ 18 (Fuel)', color='blue')\n",
                "plt.plot(x, y2, label='2X + 1Y ≤ 10 (Driver)', color='green')\n",
                "\n",
                "# Feasible region shading\n",
                "plt.fill_between(x, np.minimum(y1, y2), color='lightblue', alpha=0.5, label='Feasible Region')\n",
                "plt.xlim(0, 5)\n",
                "plt.ylim(0, 5)\n",
                "\n",
                "# Highlight the optimal point\n",
                "plt.scatter(x_value, y_value, color='red', label=f'Optimal Point ({x_value:.2f}, {y_value:.2f})')\n",
                "\n",
                "plt.xlabel('Vehicle X Trips')\n",
                "plt.ylabel('Vehicle Y Trips')\n",
                "plt.title('Feasible Region and Optimal Solution')\n",
                "plt.legend()\n",
                "plt.grid()\n",
                "plt.show()"
            ]
        }
    ],
    "metadata": {
        "kernelspec": {
            "display_name": "Python 3",
            "language": "python",
            "name": "python3"
        },
        "language_info": {
            "codemirror_mode": {
                "name": "ipython",
                "version": 3
            },
            "file_extension": ".py",
            "mimetype": "text/x-python",
            "name": "python",
            "nbconvert_exporter": "python",
            "version": "3.8.8"
        }
    },
    "nbformat": 4,
    "nbformat_minor": 5
}