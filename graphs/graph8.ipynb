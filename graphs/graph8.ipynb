{
    "cells": [{
            "cell_type": "code",
            "execution_count": 1,
            "metadata": {},
            "outputs": [],
            "source": [
                "import numpy as np\n",
                "import matplotlib.pyplot as plt\n",
                "from scipy.optimize import linprog\n",
                "\n",
                "# Define the revenue function: Maximize R = 10P1 + 12P2\n",
                "revenue = [-10, -12]  # Negative values because linprog minimizes by default\n",
                "\n",
                "# Define the constraints\n",
                "# 4P1 + 3P2 ≤ 30 (Labor constraint)\n",
                "# 1P1 + 2P2 ≤ 18 (Raw material constraint)\n",
                "# 3P1 + 2P2 ≤ 24 (Machine time constraint)\n",
                "lhs_ineq = [\n",
                "    [4, 3],  # Coefficients for labor\n",
                "    [1, 2],  # Coefficients for raw materials\n",
                "    [3, 2]   # Coefficients for machine time\n",
                "]\n",
                "\n",
                "rhs_ineq = [30, 18, 24]  # Right-hand side values of the constraints\n",
                "\n",
                "# Solve using linprog\n",
                "result = linprog(c=revenue, A_ub=lhs_ineq, b_ub=rhs_ineq, bounds=(0, None), method=\"highs\")\n",
                "\n",
                "# Extract the results\n",
                "p1_value, p2_value = result.x\n",
                "max_revenue = -result.fun  # Convert back to positive because of maximization\n",
                "\n",
                "# Display the results\n",
                "print(f\"Optimal number of Product P1: {p1_value:.2f}\")\n",
                "print(f\"Optimal number of Product P2: {p2_value:.2f}\")\n",
                "print(f\"Maximum Revenue: ${max_revenue:.2f}\")\n",
                "\n",
                "# Plotting the feasible region\n",
                "p1 = np.linspace(0, 15, 500)\n",
                "p2_1 = (30 - 4 * p1) / 3  # Labor constraint\n",
                "p2_2 = (18 - 1 * p1) / 2  # Raw material constraint\n",
                "p2_3 = (24 - 3 * p1) / 2  # Machine time constraint\n",
                "\n",
                "plt.figure(figsize=(10, 7))\n",
                "plt.plot(p1, p2_1, label=\"4P1 + 3P2 ≤ 30 (Labor)\", color=\"blue\")\n",
                "plt.plot(p1, p2_2, label=\"1P1 + 2P2 ≤ 18 (Raw Material)\", color=\"green\")\n",
                "plt.plot(p1, p2_3, label=\"3P1 + 2P2 ≤ 24 (Machine Time)\", color=\"orange\")\n",
                "\n",
                "# Feasible region shading\n",
                "plt.fill_between(p1, np.minimum(np.minimum(p2_1, p2_2), p2_3), color=\"lightblue\", alpha=0.5, label=\"Feasible Region\")\n",
                "plt.xlim(0, 10)\n",
                "plt.ylim(0, 10)\n",
                "\n",
                "# Highlight the optimal point\n",
                "plt.scatter(p1_value, p2_value, color=\"red\", label=f\"Optimal Point ({p1_value:.2f}, {p2_value:.2f})\")\n",
                "\n",
                "plt.xlabel(\"Product P1\")\n",
                "plt.ylabel(\"Product P2\")\n",
                "plt.title(\"Feasible Region and Optimal Solution\")\n",
                "plt.legend()\n",
                "plt.grid()\n",
                "plt.show()"
            ]
        },
        {
            "cell_type": "code",
            "execution_count": 2,
            "metadata": {},
            "outputs": [{
                "data": {
                    "text/plain": [
                        "Optimal number of Product P1: 4.50",
                        "Optimal number of Product P2: 5.25",
                        "Maximum Revenue: $84.00"
                    ]
                },
                "execution_count": 2,
                "metadata": {},
                "output_type": "execute_result"
            }],
            "source": []
        },
        {
            "cell_type": "code",
            "execution_count": 3,
            "metadata": {},
            "outputs": [{
                "data": {
                    "image/png": "[encoded data removed]",
                    "execution_count": 3,
                    "metadata": {
                        "image/png": {
                            "width": 600,
                            "height": 400
                        }
                    },
                    "output_type": "display_data"
                }
            }],
            "source": []
        }
    ],
    "metadata": {
        "kernelspec": {
            "display_name": "Python 3",
            "language": "python",
            "name": "python3"
        },
        "language_info": {
            "codemirror_mode": {
                "name": "ipython",
                "version": 3
            },
            "file_extension": ".py",
            "mimetype": "text/x-python",
            "name": "python",
            "nbconvert_exporter": "python",
            "version": "3.9.6"
        }
    },
    "nbformat": 4,
    "nbformat_minor": 5
}