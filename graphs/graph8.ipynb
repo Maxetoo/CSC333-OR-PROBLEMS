import numpy as np
import matplotlib.pyplot as plt
from scipy.optimize import linprog

# Define the revenue function: Maximize R = 10P1 + 12P2
revenue = [-10, -12]  # Negative values because linprog minimizes by default

# Define the constraints
# 4P1 + 3P2 ≤ 30 (Labor constraint)
# 1P1 + 2P2 ≤ 18 (Raw material constraint)
# 3P1 + 2P2 ≤ 24 (Machine time constraint)
lhs_ineq = [
    [4, 3],  # Coefficients for labor
    [1, 2],  # Coefficients for raw materials
    [3, 2]   # Coefficients for machine time
]

rhs_ineq = [30, 18, 24]  # Right-hand side values of the constraints

# Solve using linprog
result = linprog(c=revenue, A_ub=lhs_ineq, b_ub=rhs_ineq, bounds=(0, None), method="highs")

# Extract the results
p1_value, p2_value = result.x
max_revenue = -result.fun  # Convert back to positive because of maximization

# Display the results
print(f"Optimal number of Product P1: {p1_value:.2f}")
print(f"Optimal number of Product P2: {p2_value:.2f}")
print(f"Maximum Revenue: ${max_revenue:.2f}")

# Plotting the feasible region
p1 = np.linspace(0, 15, 500)
p2_1 = (30 - 4 * p1) / 3  # Labor constraint
p2_2 = (18 - 1 * p1) / 2  # Raw material constraint
p2_3 = (24 - 3 * p1) / 2  # Machine time constraint

plt.figure(figsize=(10, 7))
plt.plot(p1, p2_1, label="4P1 + 3P2 ≤ 30 (Labor)", color="blue")
plt.plot(p1, p2_2, label="1P1 + 2P2 ≤ 18 (Raw Material)", color="green")
plt.plot(p1, p2_3, label="3P1 + 2P2 ≤ 24 (Machine Time)", color="orange")

# Feasible region shading
plt.fill_between(p1, np.minimum(np.minimum(p2_1, p2_2), p2_3), color="lightblue", alpha=0.5, label="Feasible Region")
plt.xlim(0, 10)
plt.ylim(0, 10)

# Highlight the optimal point
plt.scatter(p1_value, p2_value, color="red", label=f"Optimal Point ({p1_value:.2f}, {p2_value:.2f})")

plt.xlabel("Product P1")
plt.ylabel("Product P2")
plt.title("Feasible Region and Optimal Solution")
plt.legend()
plt.grid()
plt.show()
