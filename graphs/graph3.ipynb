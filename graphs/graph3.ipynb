# NUMBER 3
import numpy as np
import matplotlib.pyplot as plt
from scipy.optimize import linprog

# Define the profit function: Maximize P = 5A + 4B
profit = [-5, -4]  # Negative values because linprog minimizes by default

# Define the constraints
# 2A + 1B ≤ 20 (Labor constraint)
# 3A + 2B ≤ 30 (Material constraint)
# 1A + 2B ≤ 18 (Machine time constraint)
lhs_ineq = [
    [2, 1],  # Coefficients for Labor constraint
    [3, 2],  # Coefficients for Material constraint
    [1, 2]   # Coefficients for Machine time constraint
]

rhs_ineq = [20, 30, 18]  # Right-hand side values of the constraints

# Solve using linprog
result = linprog(c=profit, A_ub=lhs_ineq, b_ub=rhs_ineq, bounds=(0, None), method="highs")

# Extract the results
a_value, b_value = result.x
max_profit = -result.fun  # Convert back to positive because of maximization

# Display the results
print(f"Optimal number of Product A: {a_value:.2f}")
print(f"Optimal number of Product B: {b_value:.2f}")
print(f"Maximum Profit: N{max_profit:.2f}")

# Plotting the feasible region
a = np.linspace(0, 20, 500)
b1 = (20 - 2 * a) / 1  # Labor constraint
b2 = (30 - 3 * a) / 2  # Material constraint
b3 = (18 - 1 * a) / 2  # Machine time constraint

plt.figure(figsize=(10, 7))
plt.plot(a, b1, label="2A + 1B ≤ 20 (Labor)", color="blue")
plt.plot(a, b2, label="3A + 2B ≤ 30 (Material)", color="green")
plt.plot(a, b3, label="1A + 2B ≤ 18 (Machine)", color="orange")

# Feasible region shading
plt.fill_between(a, np.minimum(np.minimum(b1, b2), b3), color="lightblue", alpha=0.5, label="Feasible Region")
plt.xlim(0, 10)
plt.ylim(0, 10)

# Highlight the optimal point
plt.scatter(a_value, b_value, color="red", label=f"Optimal Point ({a_value:.2f}, {b_value:.2f})")

plt.xlabel("Product A")
plt.ylabel("Product B")
plt.title("Feasible Region and Optimal Solution")
plt.legend()
plt.grid()
plt.show()
