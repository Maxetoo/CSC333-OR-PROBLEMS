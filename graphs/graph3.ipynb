{
    "cells": [{
            "cell_type": "code",
            "execution_count": null,
            "id": "ce358ba7",
            "metadata": {},
            "outputs": [],
            "source": [
                "import numpy as np\n",
                "import matplotlib.pyplot as plt\n",
                "from scipy.optimize import linprog\n",
                "\n",
                "# Define the profit function: Maximize P = 5A + 4B\n",
                "profit = [-5, -4]  # Negative values because linprog minimizes by default\n",
                "\n",
                "# Define the constraints\n",
                "# 2A + 1B ≤ 20 (Labor constraint)\n",
                "# 3A + 2B ≤ 30 (Material constraint)\n",
                "# 1A + 2B ≤ 18 (Machine time constraint)\n",
                "lhs_ineq = [\n",
                "    [2, 1],  # Coefficients for Labor constraint\n",
                "    [3, 2],  # Coefficients for Material constraint\n",
                "    [1, 2]   # Coefficients for Machine time constraint\n",
                "]\n",
                "\n",
                "rhs_ineq = [20, 30, 18]  # Right-hand side values of the constraints\n",
                "\n",
                "# Solve using linprog\n",
                "result = linprog(c=profit, A_ub=lhs_ineq, b_ub=rhs_ineq, bounds=(0, None), method='highs')\n",
                "\n",
                "# Extract the results\n",
                "a_value, b_value = result.x\n",
                "max_profit = -result.fun  # Convert back to positive because of maximization\n",
                "\n",
                "# Display the results\n",
                "print(f'Optimal number of Product A: {a_value:.2f}')\n",
                "print(f'Optimal number of Product B: {b_value:.2f}')\n",
                "print(f'Maximum Profit: N{max_profit:.2f}')\n"
            ]
        },
        {
            "cell_type": "code",
            "execution_count": null,
            "id": "3b183c42",
            "metadata": {},
            "outputs": [],
            "source": [
                "# Plotting the feasible region\n",
                "a = np.linspace(0, 20, 500)\n",
                "b1 = (20 - 2 * a) / 1  # Labor constraint\n",
                "b2 = (30 - 3 * a) / 2  # Material constraint\n",
                "b3 = (18 - 1 * a) / 2  # Machine time constraint\n",
                "\n",
                "plt.figure(figsize=(10, 7))\n",
                "plt.plot(a, b1, label='2A + 1B ≤ 20 (Labor)', color='blue')\n",
                "plt.plot(a, b2, label='3A + 2B ≤ 30 (Material)', color='green')\n",
                "plt.plot(a, b3, label='1A + 2B ≤ 18 (Machine)', color='orange')\n",
                "\n",
                "# Feasible region shading\n",
                "plt.fill_between(a, np.minimum(np.minimum(b1, b2), b3), color='lightblue', alpha=0.5, label='Feasible Region')\n",
                "plt.xlim(0, 10)\n",
                "plt.ylim(0, 10)\n",
                "\n",
                "# Highlight the optimal point\n",
                "plt.scatter(a_value, b_value, color='red', label=f'Optimal Point ({a_value:.2f}, {b_value:.2f})')\n",
                "\n",
                "plt.xlabel('Product A')\n",
                "plt.ylabel('Product B')\n",
                "plt.title('Feasible Region and Optimal Solution')\n",
                "plt.legend()\n",
                "plt.grid()\n",
                "plt.show()"
            ]
        }
    ],
    "metadata": {
        "kernelspec": {
            "display_name": "Python 3",
            "language": "python",
            "name": "python3"
        },
        "language_info": {
            "codemirror_mode": {
                "name": "ipython",
                "version": 3
            },
            "file_extension": ".py",
            "mimetype": "text/x-python",
            "name": "python",
            "nbconvert_exporter": "python",
            "version": "3.8.8"
        }
    },
    "nbformat": 4,
    "nbformat_minor": 5
}