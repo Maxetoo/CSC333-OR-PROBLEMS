import numpy as np
import matplotlib.pyplot as plt
from scipy.optimize
import linprog

# Define the cost

function: Minimize C = 2 X + 5 Y
cost = [2, 5]# Coefficients of the objective

function(X and Y)

# Define the constraints# 1 X + 2 Y <= 5(Material constraint)# 2 X + 1 Y <= 6(Labor constraint)# X >= 0, Y >= 0(Non - negativity constraints)
lhs_ineq = [
    [1, 2], #Coefficients
    for Material constraint[2, 1]# Coefficients
    for Labor constraint
]

rhs_ineq = [5, 6]# Right - hand side values of the constraints

# Solve using linprog
result = linprog(c = cost, A_ub = lhs_ineq, b_ub = rhs_ineq, bounds = (0, None), method = "highs")

# Extract the results
x_value, y_value = result.x
min_cost = result.fun

# Display the results
print(f "Optimal number of Product X: {x_value:.2f}")
print(f "Optimal number of Product Y: {y_value:.2f}")
print(f "Minimum Production Cost: N{min_cost:.2f}")

# Plotting the feasible region
x = np.linspace(0, 10, 500)
y1 = (5 - 1 * x) / 2# Material constraint
y2 = (6 - 2 * x) / 1# Labor constraint

plt.figure(figsize = (10, 7))
plt.plot(x, y1, label = "X + 2Y ≤ 5 (Material)", color = "blue")
plt.plot(x, y2, label = "2X + Y ≤ 6 (Labor)", color = "green")
plt.fill_between(x, np.minimum(y1, y2), color = "lightblue", alpha = 0.5, label = "Feasible Region")
plt.xlim(0, 4)
plt.ylim(0, 4)

# Highlight the optimal point
plt.scatter(x_value, y_value, color = "red", label = f "Optimal Point ({x_value:.2f}, {y_value:.2f})")

plt.xlabel("Product X")
plt.ylabel("Product Y")
plt.title("Feasible Region and Optimal Solution")
plt.legend()
plt.grid()
plt.show()