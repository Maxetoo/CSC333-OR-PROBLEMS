import numpy as np
from scipy.optimize import linprog

# Define the revenue function: Maximize R = 6A + 5B
revenue = [-6, -5]  # Negative values because linprog minimizes by default

# Define the constraints
# 2A + 4B ≤ 30 (Meat constraint)
# 3A + 2B ≤ 24 (Vegetables constraint)
# 1A + 2B ≤ 20 (Rice constraint)
lhs_ineq = [
    [2, 4],  # Coefficients for meat
    [3, 2],  # Coefficients for vegetables
    [1, 2]   # Coefficients for rice
]

rhs_ineq = [30, 24, 20]  # Right-hand side values of the constraints

# Solve using linprog
result = linprog(c=revenue, A_ub=lhs_ineq, b_ub=rhs_ineq, bounds=(0, None), method="highs")

# Extract the results
a_value, b_value = result.x
max_revenue = -result.fun  # Convert back to positive because of maximization

# Display the results
print(f"Optimal number of Meal A: {a_value:.2f}")
print(f"Optimal number of Meal B: {b_value:.2f}")
print(f"Maximum Revenue: ${max_revenue:.2f}")
