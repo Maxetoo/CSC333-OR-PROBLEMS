{
    "cells": [{
            "cell_type": "code",
            "execution_count": 1,
            "metadata": {},
            "outputs": [],
            "source": [
                "import numpy as np\n",
                "from scipy.optimize import linprog\n",
                "\n",
                "# Define the revenue function: Maximize R = 6A + 5B\n",
                "revenue = [-6, -5]  # Negative values because linprog minimizes by default\n",
                "\n",
                "# Define the constraints\n",
                "# 2A + 4B ≤ 30 (Meat constraint)\n",
                "# 3A + 2B ≤ 24 (Vegetables constraint)\n",
                "# 1A + 2B ≤ 20 (Rice constraint)\n",
                "lhs_ineq = [\n",
                "    [2, 4],  # Coefficients for meat\n",
                "    [3, 2],  # Coefficients for vegetables\n",
                "    [1, 2]   # Coefficients for rice\n",
                "]\n",
                "\n",
                "rhs_ineq = [30, 24, 20]  # Right-hand side values of the constraints\n",
                "\n",
                "# Solve using linprog\n",
                "result = linprog(c=revenue, A_ub=lhs_ineq, b_ub=rhs_ineq, bounds=(0, None), method='highs')\n",
                "\n",
                "# Extract the results\n",
                "a_value, b_value = result.x\n",
                "max_revenue = -result.fun  # Convert back to positive because of maximization\n",
                "\n",
                "# Display the results\n",
                "print(f'Optimal number of Meal A: {a_value:.2f}')\n",
                "print(f'Optimal number of Meal B: {b_value:.2f}')\n",
                "print(f'Maximum Revenue: ${max_revenue:.2f}')"
            ]
        },
        {
            "cell_type": "code",
            "execution_count": 2,
            "metadata": {},
            "outputs": [{
                "data": {
                    "text/plain": [
                        "Optimal number of Meal A: 6.00\n",
                        "Optimal number of Meal B: 3.00\n",
                        "Maximum Revenue: $48.00"
                    ]
                },
                "execution_count": 2,
                "metadata": {},
                "output_type": "execute_result"
            }],
            "source": []
        }
    ],
    "metadata": {
        "kernelspec": {
            "display_name": "Python 3",
            "language": "python",
            "name": "python3"
        },
        "language_info": {
            "codemirror_mode": {
                "name": "ipython",
                "version": 3
            },
            "file_extension": ".py",
            "mimetype": "text/x-python",
            "name": "python",
            "nbconvert_exporter": "python",
            "version": "3.9.6"
        }
    },
    "nbformat": 4,
    "nbformat_minor": 5
}