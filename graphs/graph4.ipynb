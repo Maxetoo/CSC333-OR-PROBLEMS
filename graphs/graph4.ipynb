import numpy as np
import matplotlib.pyplot as plt
from scipy.optimize import linprog

# Define the revenue function: Maximize R = 4A + 5B
revenue = [-4, -5]  # Negative values because linprog minimizes by default

# Define the constraints
# 1A + 2B ≤ 20 (Advertising budget constraint)
# 1A + 2B ≤ 15 (Production capacity constraint)
lhs_ineq = [
    [1, 2],  # Coefficients for advertising budget
    [1, 2]   # Coefficients for production capacity
]

rhs_ineq = [20, 15]  # Right-hand side values of the constraints

# Solve using linprog
result = linprog(c=revenue, A_ub=lhs_ineq, b_ub=rhs_ineq, bounds=(0, None), method="highs")

# Extract the results
a_value, b_value = result.x
max_revenue = -result.fun  # Convert back to positive because of maximization

# Display the results
print(f"Optimal number of Product A: {a_value:.2f}")
print(f"Optimal number of Product B: {b_value:.2f}")
print(f"Maximum Revenue: N{max_revenue:.2f}")

# Plotting the feasible region
a = np.linspace(0, 20, 500)
b1 = (20 - 1 * a) / 2  # Advertising budget constraint
b2 = (15 - 1 * a) / 2  # Production capacity constraint

plt.figure(figsize=(10, 7))
plt.plot(a, b1, label="1A + 2B ≤ 20 (Ad Budget)", color="blue")
plt.plot(a, b2, label="1A + 2B ≤ 15 (Capacity)", color="green")

# Feasible region shading
plt.fill_between(a, np.minimum(b1, b2), color="lightblue", alpha=0.5, label="Feasible Region")
plt.xlim(0, 10)
plt.ylim(0, 10)

# Highlight the optimal point
plt.scatter(a_value, b_value, color="red", label=f"Optimal Point ({a_value:.2f}, {b_value:.2f})")

plt.xlabel("Product A")
plt.ylabel("Product B")
plt.title("Feasible Region and Optimal Solution")
plt.legend()
plt.grid()
plt.show()
