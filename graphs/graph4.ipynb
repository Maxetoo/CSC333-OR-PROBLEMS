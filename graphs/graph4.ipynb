{
    "cells": [{
            "cell_type": "code",
            "execution_count": 1,
            "id": "85fb073b",
            "metadata": {},
            "outputs": [{
                "name": "stdout",
                "output_type": "stream",
                "text": [
                    "Optimal number of Product A: 10.00\n",
                    "Optimal number of Product B: 5.00\n",
                    "Maximum Revenue: N50.00\n"
                ]
            }],
            "source": [
                "import numpy as np\n",
                "import matplotlib.pyplot as plt\n",
                "from scipy.optimize import linprog\n",
                "\n",
                "# Define the revenue function: Maximize R = 4A + 5B\n",
                "revenue = [-4, -5]  # Negative values because linprog minimizes by default\n",
                "\n",
                "# Define the constraints\n",
                "# 1A + 2B ≤ 20 (Advertising budget constraint)\n",
                "# 1A + 2B ≤ 15 (Production capacity constraint)\n",
                "lhs_ineq = [\n",
                "    [1, 2],  # Coefficients for advertising budget\n",
                "    [1, 2]   # Coefficients for production capacity\n",
                "]\n",
                "\n",
                "rhs_ineq = [20, 15]  # Right-hand side values of the constraints\n",
                "\n",
                "# Solve using linprog\n",
                "result = linprog(c=revenue, A_ub=lhs_ineq, b_ub=rhs_ineq, bounds=(0, None), method='highs')\n",
                "\n",
                "# Extract the results\n",
                "a_value, b_value = result.x\n",
                "max_revenue = -result.fun  # Convert back to positive because of maximization\n",
                "\n",
                "# Display the results\n",
                "print(f'Optimal number of Product A: {a_value:.2f}')\n",
                "print(f'Optimal number of Product B: {b_value:.2f}')\n",
                "print(f'Maximum Revenue: N{max_revenue:.2f}')\n"
            ]
        },
        {
            "cell_type": "code",
            "execution_count": 2,
            "id": "3b183c42",
            "metadata": {},
            "outputs": [{
                    "name": "stdout",
                    "output_type": "stream",
                    "text": []
                },
                {
                    "data": {
                        "image/png": "[encoded data removed]"
                    },
                    "metadata": {},
                    "output_type": "display_data"
                }
            ],
            "source": [
                "# Plotting the feasible region\n",
                "a = np.linspace(0, 20, 500)\n",
                "b1 = (20 - 1 * a) / 2  # Advertising budget constraint\n",
                "b2 = (15 - 1 * a) / 2  # Production capacity constraint\n",
                "\n",
                "plt.figure(figsize=(10, 7))\n",
                "plt.plot(a, b1, label='1A + 2B ≤ 20 (Ad Budget)', color='blue')\n",
                "plt.plot(a, b2, label='1A + 2B ≤ 15 (Capacity)', color='green')\n",
                "\n",
                "# Feasible region shading\n",
                "plt.fill_between(a, np.minimum(b1, b2), color='lightblue', alpha=0.5, label='Feasible Region')\n",
                "plt.xlim(0, 10)\n",
                "plt.ylim(0, 10)\n",
                "\n",
                "# Highlight the optimal point\n",
                "plt.scatter(a_value, b_value, color='red', label=f'Optimal Point ({a_value:.2f}, {b_value:.2f})')\n",
                "\n",
                "plt.xlabel('Product A')\n",
                "plt.ylabel('Product B')\n",
                "plt.title('Feasible Region and Optimal Solution')\n",
                "plt.legend()\n",
                "plt.grid()\n",
                "plt.show()"
            ]
        }
    ],
    "metadata": {
        "kernelspec": {
            "display_name": "Python 3",
            "language": "python",
            "name": "python3"
        },
        "language_info": {
            "codemirror_mode": {
                "name": "ipython",
                "version": 3
            },
            "file_extension": ".py",
            "mimetype": "text/x-python",
            "name": "python",
            "nbconvert_exporter": "python",
            "version": "3.8.8"
        }
    },
    "nbformat": 4,
    "nbformat_minor": 5
}