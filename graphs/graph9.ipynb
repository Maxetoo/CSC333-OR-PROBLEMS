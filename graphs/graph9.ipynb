import numpy as np
from scipy.optimize import linprog

# Define the reach function: Maximize R = 500000A + 400000B
reach = [-500000, -400000]  # Negative values because linprog minimizes by default

# Define the constraints
# 4000A + 3000B ≤ 5000 (Television budget constraint)
# 2000A + 2500B ≤ 4500 (Print media budget constraint)
# 1000A + 1500B ≤ 3000 (Social media budget constraint)
lhs_ineq = [
    [4000, 3000],  # Coefficients for television budget
    [2000, 2500],  # Coefficients for print media budget
    [1000, 1500]   # Coefficients for social media budget
]

rhs_ineq = [5000, 4500, 3000]  # Right-hand side values of the constraints

# Solve using linprog
result = linprog(c=reach, A_ub=lhs_ineq, b_ub=rhs_ineq, bounds=(0, None), method="highs")

# Extract the results
a_value, b_value = result.x
max_reach = -result.fun  # Convert back to positive because of maximization

# Display the results
print(f"Optimal number of Campaign A: {a_value:.2f}")
print(f"Optimal number of Campaign B: {b_value:.2f}")
print(f"Maximum Reach: {max_reach:.0f} people")
