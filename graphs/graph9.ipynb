{
    "cells": [{
            "cell_type": "code",
            "execution_count": 1,
            "metadata": {},
            "outputs": [],
            "source": [
                "import numpy as np\n",
                "from scipy.optimize import linprog\n",
                "\n",
                "# Define the reach function: Maximize R = 500000A + 400000B\n",
                "reach = [-500000, -400000]  # Negative values because linprog minimizes by default\n",
                "\n",
                "# Define the constraints\n",
                "# 4000A + 3000B ≤ 5000 (Television budget constraint)\n",
                "# 2000A + 2500B ≤ 4500 (Print media budget constraint)\n",
                "# 1000A + 1500B ≤ 3000 (Social media budget constraint)\n",
                "lhs_ineq = [\n",
                "    [4000, 3000],  # Coefficients for television budget\n",
                "    [2000, 2500],  # Coefficients for print media budget\n",
                "    [1000, 1500]   # Coefficients for social media budget\n",
                "]\n",
                "\n",
                "rhs_ineq = [5000, 4500, 3000]  # Right-hand side values of the constraints\n",
                "\n",
                "# Solve using linprog\n",
                "result = linprog(c=reach, A_ub=lhs_ineq, b_ub=rhs_ineq, bounds=(0, None), method='highs')\n",
                "\n",
                "# Extract the results\n",
                "a_value, b_value = result.x\n",
                "max_reach = -result.fun  # Convert back to positive because of maximization\n",
                "\n",
                "# Display the results\n",
                "print(f'Optimal number of Campaign A: {a_value:.2f}')\n",
                "print(f'Optimal number of Campaign B: {b_value:.2f}')\n",
                "print(f'Maximum Reach: {max_reach:.0f} people')"
            ]
        },
        {
            "cell_type": "code",
            "execution_count": 2,
            "metadata": {},
            "outputs": [{
                "data": {
                    "text/plain": [
                        "Optimal number of Campaign A: 0.00\n",
                        "Optimal number of Campaign B: 1.80\n",
                        "Maximum Reach: 720000 people"
                    ]
                },
                "execution_count": 2,
                "metadata": {},
                "output_type": "execute_result"
            }],
            "source": []
        }
    ],
    "metadata": {
        "kernelspec": {
            "display_name": "Python 3",
            "language": "python",
            "name": "python3"
        },
        "language_info": {
            "codemirror_mode": {
                "name": "ipython",
                "version": 3
            },
            "file_extension": ".py",
            "mimetype": "text/x-python",
            "name": "python",
            "nbconvert_exporter": "python",
            "version": "3.9.6"
        }
    },
    "nbformat": 4,
    "nbformat_minor": 5
}