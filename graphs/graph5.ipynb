import numpy as np
import matplotlib.pyplot as plt
from scipy.optimize import linprog

# Define the profit function: Maximize P = 8P1 + 7P2
profit = [-8, -7]

# Define the constraints
# 3P1 + 4P2 ≤ 12 (Labor hours constraint)
# 2P1 + 1P2 ≤ 6 (Capital constraint)
lhs_ineq = [
    [3, 4],  # Coefficients for labor hours
    [2, 1]   # Coefficients for capital
]

rhs_ineq = [12, 6]

# Solve using linprog
result = linprog(c=profit, A_ub=lhs_ineq, b_ub=rhs_ineq, bounds=(0, None), method="highs")

# Extract the results
p1_value, p2_value = result.x
max_profit = -result.fun

# Display the results
print(f"Optimal units of Project P1: {p1_value:.2f}")
print(f"Optimal units of Project P2: {p2_value:.2f}")
print(f"Maximum Profit: N{max_profit:.2f}")

# Plotting the feasible region
p1 = np.linspace(0, 5, 500)
p2_1 = (12 - 3 * p1) / 4  # Labor hours constraint
p2_2 = (6 - 2 * p1) / 1   # Capital constraint

plt.figure(figsize=(10, 7))
plt.plot(p1, p2_1, label="3P1 + 4P2 ≤ 12 (Labor)", color="blue")
plt.plot(p1, p2_2, label="2P1 + 1P2 ≤ 6 (Capital)", color="green")

# Feasible region shading
plt.fill_between(p1, np.minimum(p2_1, p2_2), color="lightblue", alpha=0.5, label="Feasible Region")
plt.xlim(0, 5)
plt.ylim(0, 5)

# Highlight the optimal point
plt.scatter(p1_value, p2_value, color="red", label=f"Optimal Point ({p1_value:.2f}, {p2_value:.2f})")

plt.xlabel("Project P1")
plt.ylabel("Project P2")
plt.title("Feasible Region and Optimal Solution")
plt.legend()
plt.grid()
plt.show()
